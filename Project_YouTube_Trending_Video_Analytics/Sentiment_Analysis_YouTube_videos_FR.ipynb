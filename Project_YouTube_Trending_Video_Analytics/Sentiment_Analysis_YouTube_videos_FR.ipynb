{
 "cells": [
  {
   "cell_type": "code",
   "execution_count": 2,
   "id": "7da1a01b-65f6-40df-b854-13c1dc7126f8",
   "metadata": {},
   "outputs": [
    {
     "name": "stdout",
     "output_type": "stream",
     "text": [
      "                                                   title  title_sentiment  \\\n",
      "0               Malika LePen : Femme de Gauche - Trailer         0.000000   \n",
      "1      LA PIRE PARTIE ft Le Rire Jaune, Pierre Croce,...         0.041667   \n",
      "2      DESSINS ANIMEÌS FRANCÌ§AIS VS RUSSES 2 - Dani...         0.000000   \n",
      "3                        PAPY GRENIER - METAL GEAR SOLID         0.000000   \n",
      "4      QUI SAUTERA LE PLUS HAUT ? (VÃ‰LO SKATE ROLLER...         0.000000   \n",
      "...                                                  ...              ...   \n",
      "40720  Ø´Ø§Ù‡Ø¯ Ù…Ù„Ø®Øµ Ø§Ù„Ø¨Ø±Ù„Ù…Ø§Ù† Ø§Ù„ÙŠÙˆÙ… ...         0.000000   \n",
      "40721              UN ANIME EXPLOSIF A VOIR ABSOLUMENT !         0.000000   \n",
      "40722  Õ†Õ¼Õ¡Õ¶ Õ°Õ¡Õ¿Õ«Õ¯, ÕÕ¥Ö€Õ«Õ¡ 192 / Pomegran...         0.000000   \n",
      "40723             MandoumbÃ© ak Koor Gui 2018 Episode 28         0.000000   \n",
      "40724                                                NaN         0.000000   \n",
      "\n",
      "             channel_title  channel_title_sentiment  \n",
      "0      Le Raptor Dissident                      0.0  \n",
      "1                  Le Labo                      0.0  \n",
      "2          Daniil le Russe                      0.0  \n",
      "3        Joueur Du Grenier                      0.0  \n",
      "4        Aurelien Fontenoy                      0.0  \n",
      "...                    ...                      ...  \n",
      "40720         Jadal Ø¬Ø¯Ù„                      0.0  \n",
      "40721            RushManga                      0.0  \n",
      "40722       PanArmenian TV                      0.0  \n",
      "40723             Yesdakar                      0.0  \n",
      "40724                  NaN                      0.0  \n",
      "\n",
      "[40725 rows x 4 columns]\n"
     ]
    }
   ],
   "source": [
    "import pandas as pd\n",
    "from textblob import TextBlob\n",
    "\n",
    "df = pd.read_excel(r\"C:\\Users\\Lenovo\\Downloads\\Project_YouTube_Trending_Video_Analytics\\youtube_videos_FR.xlsx\")  \n",
    "\n",
    "def get_sentiment(text):\n",
    "    blob = TextBlob(str(text))\n",
    "    return blob.sentiment.polarity\n",
    "\n",
    "df['title_sentiment'] = df['title'].apply(get_sentiment)\n",
    "df['channel_title_sentiment'] = df['channel_title'].apply(get_sentiment)\n",
    "\n",
    "print(df[['title', 'title_sentiment', 'channel_title', 'channel_title_sentiment']])\n",
    "\n",
    "df.to_excel(r'C:\\Users\\Lenovo\\Downloads\\Project_YouTube_Trending_Video_Analytics\\youtube_videos_FR_sentiment.xlsx', index=False)"
   ]
  }
 ],
 "metadata": {
  "kernelspec": {
   "display_name": "Python [conda env:base] *",
   "language": "python",
   "name": "conda-base-py"
  },
  "language_info": {
   "codemirror_mode": {
    "name": "ipython",
    "version": 3
   },
   "file_extension": ".py",
   "mimetype": "text/x-python",
   "name": "python",
   "nbconvert_exporter": "python",
   "pygments_lexer": "ipython3",
   "version": "3.13.5"
  }
 },
 "nbformat": 4,
 "nbformat_minor": 5
}
